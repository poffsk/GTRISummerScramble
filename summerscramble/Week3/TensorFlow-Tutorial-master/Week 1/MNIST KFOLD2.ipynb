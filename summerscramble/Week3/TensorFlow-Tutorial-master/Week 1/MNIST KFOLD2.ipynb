{
 "cells": [
  {
   "cell_type": "code",
   "execution_count": 31,
   "metadata": {},
   "outputs": [],
   "source": [
    "import tensorflow as tf"
   ]
  },
  {
   "cell_type": "code",
   "execution_count": 32,
   "metadata": {},
   "outputs": [],
   "source": [
    "import numpy as np"
   ]
  },
  {
   "cell_type": "code",
   "execution_count": 33,
   "metadata": {},
   "outputs": [],
   "source": [
    "mnist=tf.keras.datasets.mnist"
   ]
  },
  {
   "cell_type": "code",
   "execution_count": 34,
   "metadata": {},
   "outputs": [],
   "source": [
    "from sklearn.model_selection import KFold"
   ]
  },
  {
   "cell_type": "code",
   "execution_count": 35,
   "metadata": {},
   "outputs": [],
   "source": [
    "kf=KFold(n_splits=5)"
   ]
  },
  {
   "cell_type": "code",
   "execution_count": 36,
   "metadata": {},
   "outputs": [
    {
     "data": {
      "text/plain": [
       "5"
      ]
     },
     "execution_count": 36,
     "metadata": {},
     "output_type": "execute_result"
    }
   ],
   "source": [
    "kf.get_n_splits()"
   ]
  },
  {
   "cell_type": "code",
   "execution_count": 37,
   "metadata": {},
   "outputs": [],
   "source": [
    "(x_train, y_train),(x_test,y_test)=mnist.load_data()"
   ]
  },
  {
   "cell_type": "code",
   "execution_count": 38,
   "metadata": {},
   "outputs": [],
   "source": [
    "x_train,x_test=x_train/255.0,x_test/255.0"
   ]
  },
  {
   "cell_type": "code",
   "execution_count": 39,
   "metadata": {},
   "outputs": [],
   "source": [
    "model=tf.keras.models.Sequential([\n",
    "    tf.keras.layers.Flatten(input_shape=(28,28)),\n",
    "    tf.keras.layers.Dense(128, activation='relu'),\n",
    "    tf.keras.layers.Dropout(0.2),\n",
    "    tf.keras.layers.Dense(10)\n",
    "])"
   ]
  },
  {
   "cell_type": "code",
   "execution_count": 40,
   "metadata": {},
   "outputs": [],
   "source": [
    "predictions=model(x_train[:5]).numpy()"
   ]
  },
  {
   "cell_type": "code",
   "execution_count": 41,
   "metadata": {},
   "outputs": [
    {
     "data": {
      "text/plain": [
       "array([[-0.18716869, -0.2359003 ,  0.478733  , -0.00483475, -0.04381356,\n",
       "        -0.12678167,  0.3640622 ,  0.20057632,  0.2866352 , -0.19277745],\n",
       "       [ 0.69342905, -0.14399509, -0.16396268, -0.49224535,  0.04645634,\n",
       "        -0.16981356,  0.47967428, -0.18369412,  0.05232172, -0.17309113],\n",
       "       [-0.24755739,  0.20746441,  0.16693929,  0.19467525,  0.30955532,\n",
       "         0.42733932,  0.6105425 , -0.22113898,  0.47946236, -0.28529316],\n",
       "       [ 0.18391863,  0.23735173,  0.10937361,  0.11730405, -0.07101984,\n",
       "         0.3979329 ,  0.2738886 , -0.5452429 ,  0.53214455, -0.11001669],\n",
       "       [ 0.05344913,  0.2783614 ,  0.42362773, -0.69517916,  0.09537707,\n",
       "         0.40336055, -0.38962963, -0.5481131 ,  0.4695988 , -0.52521706]],\n",
       "      dtype=float32)"
      ]
     },
     "execution_count": 41,
     "metadata": {},
     "output_type": "execute_result"
    }
   ],
   "source": [
    "predictions"
   ]
  },
  {
   "cell_type": "code",
   "execution_count": 42,
   "metadata": {},
   "outputs": [
    {
     "data": {
      "text/plain": [
       "array([[0.07619265, 0.07256868, 0.14828955, 0.09143232, 0.08793695,\n",
       "        0.08093546, 0.1322238 , 0.11228161, 0.12237241, 0.0757665 ],\n",
       "       [0.18944068, 0.08199447, 0.08037347, 0.05788172, 0.09919655,\n",
       "        0.07990459, 0.15298213, 0.07880314, 0.09978008, 0.07964313],\n",
       "       [0.06340041, 0.09993222, 0.09596342, 0.09866231, 0.11067335,\n",
       "        0.12450764, 0.14954095, 0.06509767, 0.13116947, 0.06105253],\n",
       "       [0.10340679, 0.10908243, 0.09597864, 0.09674282, 0.08013656,\n",
       "        0.12808383, 0.11314166, 0.04987447, 0.14648113, 0.07707164],\n",
       "       [0.10099223, 0.12646376, 0.14623606, 0.04777083, 0.10531664,\n",
       "        0.1433021 , 0.06484273, 0.05533919, 0.1531156 , 0.05662085]],\n",
       "      dtype=float32)"
      ]
     },
     "execution_count": 42,
     "metadata": {},
     "output_type": "execute_result"
    }
   ],
   "source": [
    "tf.nn.softmax(predictions).numpy()"
   ]
  },
  {
   "cell_type": "code",
   "execution_count": 43,
   "metadata": {},
   "outputs": [],
   "source": [
    "loss_fn=tf.keras.losses.SparseCategoricalCrossentropy(from_logits=True)"
   ]
  },
  {
   "cell_type": "code",
   "execution_count": 44,
   "metadata": {},
   "outputs": [
    {
     "data": {
      "text/plain": [
       "2.293197"
      ]
     },
     "execution_count": 44,
     "metadata": {},
     "output_type": "execute_result"
    }
   ],
   "source": [
    "loss_fn(y_train[:5],predictions).numpy()"
   ]
  },
  {
   "cell_type": "code",
   "execution_count": 45,
   "metadata": {},
   "outputs": [],
   "source": [
    "model.compile(optimizer='adam',loss=loss_fn,metrics=['accuracy'])"
   ]
  },
  {
   "cell_type": "code",
   "execution_count": 46,
   "metadata": {},
   "outputs": [
    {
     "name": "stdout",
     "output_type": "stream",
     "text": [
      "Epoch 1/5\n",
      "1500/1500 [==============================] - 2s 1ms/step - loss: 0.3264 - accuracy: 0.9041 - val_loss: 0.1599 - val_accuracy: 0.9565\n",
      "Epoch 2/5\n",
      "1500/1500 [==============================] - 2s 1ms/step - loss: 0.1580 - accuracy: 0.9532 - val_loss: 0.1163 - val_accuracy: 0.9653\n",
      "Epoch 3/5\n",
      "1500/1500 [==============================] - 2s 1ms/step - loss: 0.1175 - accuracy: 0.9643 - val_loss: 0.0964 - val_accuracy: 0.9715\n",
      "Epoch 4/5\n",
      "1500/1500 [==============================] - 2s 1ms/step - loss: 0.0956 - accuracy: 0.9706 - val_loss: 0.0874 - val_accuracy: 0.9728\n",
      "Epoch 5/5\n",
      "1500/1500 [==============================] - 2s 1ms/step - loss: 0.0824 - accuracy: 0.9739 - val_loss: 0.0795 - val_accuracy: 0.9759\n",
      "Epoch 1/5\n",
      "1500/1500 [==============================] - 2s 1ms/step - loss: 0.0791 - accuracy: 0.9769 - val_loss: 0.0494 - val_accuracy: 0.9847\n",
      "Epoch 2/5\n",
      "1500/1500 [==============================] - 2s 1ms/step - loss: 0.0685 - accuracy: 0.9787 - val_loss: 0.0558 - val_accuracy: 0.9813\n",
      "Epoch 3/5\n",
      "1500/1500 [==============================] - 2s 1ms/step - loss: 0.0603 - accuracy: 0.9806 - val_loss: 0.0498 - val_accuracy: 0.9843\n",
      "Epoch 4/5\n",
      "1500/1500 [==============================] - 2s 1ms/step - loss: 0.0526 - accuracy: 0.9829 - val_loss: 0.0526 - val_accuracy: 0.9827\n",
      "Epoch 5/5\n",
      "1500/1500 [==============================] - 2s 2ms/step - loss: 0.0491 - accuracy: 0.9843 - val_loss: 0.0527 - val_accuracy: 0.9829\n",
      "Epoch 1/5\n",
      "1500/1500 [==============================] - 2s 1ms/step - loss: 0.0540 - accuracy: 0.9826 - val_loss: 0.0253 - val_accuracy: 0.9923\n",
      "Epoch 2/5\n",
      "1500/1500 [==============================] - 2s 1ms/step - loss: 0.0454 - accuracy: 0.9849 - val_loss: 0.0258 - val_accuracy: 0.9919\n",
      "Epoch 3/5\n",
      "1500/1500 [==============================] - 2s 1ms/step - loss: 0.0404 - accuracy: 0.9865 - val_loss: 0.0305 - val_accuracy: 0.9898\n",
      "Epoch 4/5\n",
      "1500/1500 [==============================] - 2s 1ms/step - loss: 0.0389 - accuracy: 0.9869 - val_loss: 0.0343 - val_accuracy: 0.9895\n",
      "Epoch 5/5\n",
      "1500/1500 [==============================] - 2s 1ms/step - loss: 0.0372 - accuracy: 0.9868 - val_loss: 0.0330 - val_accuracy: 0.9892\n",
      "Epoch 1/5\n",
      "1500/1500 [==============================] - 2s 1ms/step - loss: 0.0400 - accuracy: 0.9860 - val_loss: 0.0186 - val_accuracy: 0.9933\n",
      "Epoch 2/5\n",
      "1500/1500 [==============================] - 2s 1ms/step - loss: 0.0348 - accuracy: 0.9883 - val_loss: 0.0226 - val_accuracy: 0.9920\n",
      "Epoch 3/5\n",
      "1500/1500 [==============================] - 2s 1ms/step - loss: 0.0326 - accuracy: 0.9889 - val_loss: 0.0239 - val_accuracy: 0.9925\n",
      "Epoch 4/5\n",
      "1500/1500 [==============================] - 2s 1ms/step - loss: 0.0302 - accuracy: 0.9895 - val_loss: 0.0241 - val_accuracy: 0.9918\n",
      "Epoch 5/5\n",
      "1500/1500 [==============================] - 2s 2ms/step - loss: 0.0287 - accuracy: 0.9900 - val_loss: 0.0278 - val_accuracy: 0.9907\n",
      "Epoch 1/5\n",
      "1500/1500 [==============================] - 2s 1ms/step - loss: 0.0333 - accuracy: 0.9890 - val_loss: 0.0099 - val_accuracy: 0.9974\n",
      "Epoch 2/5\n",
      "1500/1500 [==============================] - 2s 1ms/step - loss: 0.0292 - accuracy: 0.9900 - val_loss: 0.0105 - val_accuracy: 0.9967\n",
      "Epoch 3/5\n",
      "1500/1500 [==============================] - 2s 1ms/step - loss: 0.0260 - accuracy: 0.9908 - val_loss: 0.0149 - val_accuracy: 0.9948\n",
      "Epoch 4/5\n",
      "1500/1500 [==============================] - 2s 1ms/step - loss: 0.0276 - accuracy: 0.9907 - val_loss: 0.0153 - val_accuracy: 0.9948\n",
      "Epoch 5/5\n",
      "1500/1500 [==============================] - 2s 1ms/step - loss: 0.0245 - accuracy: 0.9914 - val_loss: 0.0155 - val_accuracy: 0.9950\n"
     ]
    }
   ],
   "source": [
    "\n",
    "for train_index, test_index in kf.split(x_train):\n",
    "    x_trains, x_tests=x_train[train_index],x_train[test_index]\n",
    "    y_trains, y_tests=y_train[train_index], y_train[test_index]\n",
    "    \n",
    "    model.fit(x_trains,y_trains, validation_data=(x_tests,y_tests), epochs=5)\n",
    "    \n",
    "    \n",
    "    "
   ]
  },
  {
   "cell_type": "code",
   "execution_count": 47,
   "metadata": {},
   "outputs": [
    {
     "name": "stdout",
     "output_type": "stream",
     "text": [
      "313/313 - 0s - loss: 0.0807 - accuracy: 0.9809\n"
     ]
    },
    {
     "data": {
      "text/plain": [
       "[0.08066778630018234, 0.98089998960495]"
      ]
     },
     "execution_count": 47,
     "metadata": {},
     "output_type": "execute_result"
    }
   ],
   "source": [
    "model.evaluate(x_test,y_test,verbose=2)"
   ]
  },
  {
   "cell_type": "markdown",
   "metadata": {},
   "source": [
    "The end accuracy was 0.9809 compared to 0.9496 when not using KFold.\n",
    "\n",
    "The predictions for the first 5:"
   ]
  }
 ],
 "metadata": {
  "kernelspec": {
   "display_name": "Python 3",
   "language": "python",
   "name": "python3"
  },
  "language_info": {
   "codemirror_mode": {
    "name": "ipython",
    "version": 3
   },
   "file_extension": ".py",
   "mimetype": "text/x-python",
   "name": "python",
   "nbconvert_exporter": "python",
   "pygments_lexer": "ipython3",
   "version": "3.7.4"
  }
 },
 "nbformat": 4,
 "nbformat_minor": 2
}
