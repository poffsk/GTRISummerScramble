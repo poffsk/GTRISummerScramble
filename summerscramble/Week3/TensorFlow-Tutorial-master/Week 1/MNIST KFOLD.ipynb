{
 "cells": [
  {
   "cell_type": "code",
   "execution_count": 1,
   "metadata": {},
   "outputs": [],
   "source": [
    "import tensorflow as tf"
   ]
  },
  {
   "cell_type": "code",
   "execution_count": 2,
   "metadata": {},
   "outputs": [],
   "source": [
    "mnist=tf.keras.datasets.mnist"
   ]
  },
  {
   "cell_type": "code",
   "execution_count": 3,
   "metadata": {},
   "outputs": [],
   "source": [
    "from sklearn.model_selection import KFold"
   ]
  },
  {
   "cell_type": "code",
   "execution_count": 6,
   "metadata": {},
   "outputs": [],
   "source": [
    "kf=KFold(n_splits=5)"
   ]
  },
  {
   "cell_type": "code",
   "execution_count": 7,
   "metadata": {},
   "outputs": [
    {
     "data": {
      "text/plain": [
       "5"
      ]
     },
     "execution_count": 7,
     "metadata": {},
     "output_type": "execute_result"
    }
   ],
   "source": [
    "kf.get_n_splits()"
   ]
  },
  {
   "cell_type": "code",
   "execution_count": 17,
   "metadata": {},
   "outputs": [],
   "source": [
    "(x_train, y_train),(x_test,y_test)=mnist.load_data()"
   ]
  },
  {
   "cell_type": "code",
   "execution_count": 18,
   "metadata": {},
   "outputs": [],
   "source": [
    "x_train,x_test=x_train/255.0,x_test/255.0"
   ]
  },
  {
   "cell_type": "code",
   "execution_count": 21,
   "metadata": {},
   "outputs": [
    {
     "name": "stdout",
     "output_type": "stream",
     "text": [
      "TRAIN: [12000 12001 12002 ... 59997 59998 59999] VALIDATE: [    0     1     2 ... 11997 11998 11999]\n",
      "TRAIN: [    0     1     2 ... 59997 59998 59999] VALIDATE: [12000 12001 12002 ... 23997 23998 23999]\n",
      "TRAIN: [    0     1     2 ... 59997 59998 59999] VALIDATE: [24000 24001 24002 ... 35997 35998 35999]\n",
      "TRAIN: [    0     1     2 ... 59997 59998 59999] VALIDATE: [36000 36001 36002 ... 47997 47998 47999]\n",
      "TRAIN: [    0     1     2 ... 47997 47998 47999] VALIDATE: [48000 48001 48002 ... 59997 59998 59999]\n"
     ]
    }
   ],
   "source": [
    "for train_index, val_index in kf.split(x_train):\n",
    "    print(\"TRAIN:\", train_index, \"VALIDATE:\", val_index)"
   ]
  },
  {
   "cell_type": "code",
   "execution_count": 23,
   "metadata": {},
   "outputs": [],
   "source": [
    "model= tf.keras.models.Sequential([\n",
    "    tf.keras.layers.Flatten(input_shape=(28,28)),\n",
    "    tf.keras.layers.Dense(128, activation='relu'),\n",
    "    tf.keras.layers.Dropout(0.2),\n",
    "    tf.keras.layers.Dense(10)\n",
    "])"
   ]
  },
  {
   "cell_type": "code",
   "execution_count": 25,
   "metadata": {},
   "outputs": [
    {
     "name": "stdout",
     "output_type": "stream",
     "text": [
      "train:  [12000 12001 12002 ... 59997 59998 59999] val:  [    0     1     2 ... 11997 11998 11999]\n",
      "train:  [    0     1     2 ... 59997 59998 59999] val:  [12000 12001 12002 ... 23997 23998 23999]\n",
      "train:  [    0     1     2 ... 59997 59998 59999] val:  [24000 24001 24002 ... 35997 35998 35999]\n",
      "train:  [    0     1     2 ... 59997 59998 59999] val:  [36000 36001 36002 ... 47997 47998 47999]\n",
      "train:  [    0     1     2 ... 47997 47998 47999] val:  [48000 48001 48002 ... 59997 59998 59999]\n"
     ]
    }
   ],
   "source": [
    "for train_index, val_index in kf.split(x_train):\n",
    "    print(\"train: \", train_index, \"val: \", val_index)"
   ]
  },
  {
   "cell_type": "code",
   "execution_count": 26,
   "metadata": {},
   "outputs": [
    {
     "data": {
      "text/plain": [
       "<generator object _BaseKFold.split at 0x000001CC5E7AC4C8>"
      ]
     },
     "execution_count": 26,
     "metadata": {},
     "output_type": "execute_result"
    }
   ],
   "source": [
    "kf.split(x_train)"
   ]
  },
  {
   "cell_type": "code",
   "execution_count": 38,
   "metadata": {},
   "outputs": [
    {
     "data": {
      "text/plain": [
       "array([[-12.697265  ,  -6.4635673 ,  -5.5225396 ,   9.730963  ,\n",
       "        -29.257755  ,  12.041705  , -16.24395   ,  -8.398741  ,\n",
       "        -12.192362  ,  -4.441319  ],\n",
       "       [ 14.414392  ,  -9.958658  ,   1.0502868 ,  -4.2826614 ,\n",
       "        -13.989229  ,  -3.37674   ,  -3.2270741 ,  -2.770842  ,\n",
       "         -6.96792   ,  -3.9350698 ],\n",
       "       [ -7.178491  ,  -7.6510854 ,  -0.14363433,  -1.5341163 ,\n",
       "          6.7151766 ,  -6.2901297 ,  -3.1360998 ,  -1.1705166 ,\n",
       "         -2.918718  ,   1.6232035 ],\n",
       "       [ -8.735497  ,  10.310317  ,  -3.8960068 ,  -7.1638236 ,\n",
       "         -1.9973284 ,  -8.665093  ,  -7.6515727 ,  -0.18701401,\n",
       "         -0.45610297, -11.002445  ],\n",
       "       [-10.638469  ,  -5.129674  ,  -6.795559  ,   0.35584736,\n",
       "         -0.03325601,  -5.878095  , -12.770574  ,  -1.291327  ,\n",
       "         -0.7552044 ,   6.6925783 ]], dtype=float32)"
      ]
     },
     "execution_count": 38,
     "metadata": {},
     "output_type": "execute_result"
    }
   ],
   "source": [
    "predictions=model(x_train[:5]).numpy()\n",
    "predictions"
   ]
  },
  {
   "cell_type": "code",
   "execution_count": 40,
   "metadata": {},
   "outputs": [
    {
     "name": "stdout",
     "output_type": "stream",
     "text": [
      "[5 0 4 1 9]\n"
     ]
    }
   ],
   "source": [
    "print(y_train[:5])"
   ]
  },
  {
   "cell_type": "code",
   "execution_count": 39,
   "metadata": {},
   "outputs": [
    {
     "data": {
      "text/plain": [
       "array([[1.6403255e-11, 8.3596996e-09, 2.1422657e-08, 9.0237170e-02,\n",
       "        1.0539013e-18, 9.0976268e-01, 4.7274158e-13, 1.2071345e-09,\n",
       "        2.7177340e-11, 6.3159909e-08],\n",
       "       [9.9999845e-01, 2.5996682e-11, 1.5705153e-06, 7.5852871e-09,\n",
       "        4.6180984e-13, 1.8767608e-08, 2.1797563e-08, 3.4399093e-08,\n",
       "        5.1734339e-10, 1.0738138e-08],\n",
       "       [9.1752020e-07, 5.7196593e-07, 1.0418734e-03, 2.5938000e-04,\n",
       "        9.9210733e-01, 2.2306217e-06, 5.2264124e-05, 3.7311754e-04,\n",
       "        6.4954802e-05, 6.0973726e-03],\n",
       "       [5.3516094e-09, 9.9994600e-01, 6.7647005e-07, 2.5766409e-08,\n",
       "        4.5168317e-06, 5.7419642e-09, 1.5820753e-08, 2.7608559e-05,\n",
       "        2.1095004e-05, 5.5457600e-10],\n",
       "       [2.9616183e-08, 7.3108567e-06, 1.3819224e-06, 1.7631933e-03,\n",
       "        1.1948529e-03, 3.4588625e-06, 3.5121070e-09, 3.3957927e-04,\n",
       "        5.8046542e-04, 9.9610978e-01]], dtype=float32)"
      ]
     },
     "execution_count": 39,
     "metadata": {},
     "output_type": "execute_result"
    }
   ],
   "source": [
    "tf.nn.softmax(predictions).numpy()"
   ]
  },
  {
   "cell_type": "code",
   "execution_count": 30,
   "metadata": {},
   "outputs": [],
   "source": [
    "loss_fn=tf.keras.losses.SparseCategoricalCrossentropy(from_logits=True)"
   ]
  },
  {
   "cell_type": "code",
   "execution_count": 31,
   "metadata": {},
   "outputs": [
    {
     "data": {
      "text/plain": [
       "2.2318947"
      ]
     },
     "execution_count": 31,
     "metadata": {},
     "output_type": "execute_result"
    }
   ],
   "source": [
    "loss_fn(y_train[:1],predictions).numpy()"
   ]
  },
  {
   "cell_type": "code",
   "execution_count": 35,
   "metadata": {},
   "outputs": [],
   "source": [
    "model.compile(optimizer='adam',loss=loss_fn,metrics=['accuracy'])"
   ]
  },
  {
   "cell_type": "code",
   "execution_count": 36,
   "metadata": {},
   "outputs": [
    {
     "name": "stdout",
     "output_type": "stream",
     "text": [
      "Epoch 1/5\n",
      "1875/1875 [==============================] - 3s 1ms/step - loss: 0.2973 - accuracy: 0.9138\n",
      "Epoch 2/5\n",
      "1875/1875 [==============================] - 2s 1ms/step - loss: 0.1456 - accuracy: 0.9570\n",
      "Epoch 3/5\n",
      "1875/1875 [==============================] - 2s 1ms/step - loss: 0.1072 - accuracy: 0.9669\n",
      "Epoch 4/5\n",
      "1875/1875 [==============================] - 2s 1ms/step - loss: 0.0880 - accuracy: 0.9728\n",
      "Epoch 5/5\n",
      "1875/1875 [==============================] - 2s 1ms/step - loss: 0.0755 - accuracy: 0.9768\n"
     ]
    },
    {
     "data": {
      "text/plain": [
       "<tensorflow.python.keras.callbacks.History at 0x1cc036f7408>"
      ]
     },
     "execution_count": 36,
     "metadata": {},
     "output_type": "execute_result"
    }
   ],
   "source": [
    "model.fit(x_train,y_train,epochs=5)"
   ]
  },
  {
   "cell_type": "code",
   "execution_count": 37,
   "metadata": {},
   "outputs": [
    {
     "name": "stdout",
     "output_type": "stream",
     "text": [
      "313/313 - 0s - loss: 0.0719 - accuracy: 0.9787\n"
     ]
    },
    {
     "data": {
      "text/plain": [
       "[0.07187596708536148, 0.9786999821662903]"
      ]
     },
     "execution_count": 37,
     "metadata": {},
     "output_type": "execute_result"
    }
   ],
   "source": [
    "model.evaluate(x_test,y_test,verbose=2)"
   ]
  },
  {
   "cell_type": "markdown",
   "metadata": {},
   "source": [
    "The end accuracy of this test was 0.9787 compared to 0.9496 when not using KFold. \n",
    "\n",
    "The predictions for the first 5:\n",
    "array([[1.6403255e-11, 8.3596996e-09, 2.1422657e-08, 9.0237170e-02,\n",
    "        1.0539013e-18, 9.0976268e-01, 4.7274158e-13, 1.2071345e-09,\n",
    "        2.7177340e-11, 6.3159909e-08],\n",
    "       [9.9999845e-01, 2.5996682e-11, 1.5705153e-06, 7.5852871e-09,\n",
    "        4.6180984e-13, 1.8767608e-08, 2.1797563e-08, 3.4399093e-08,\n",
    "        5.1734339e-10, 1.0738138e-08],\n",
    "       [9.1752020e-07, 5.7196593e-07, 1.0418734e-03, 2.5938000e-04,\n",
    "        9.9210733e-01, 2.2306217e-06, 5.2264124e-05, 3.7311754e-04,\n",
    "        6.4954802e-05, 6.0973726e-03],\n",
    "       [5.3516094e-09, 9.9994600e-01, 6.7647005e-07, 2.5766409e-08,\n",
    "        4.5168317e-06, 5.7419642e-09, 1.5820753e-08, 2.7608559e-05,\n",
    "        2.1095004e-05, 5.5457600e-10],\n",
    "       [2.9616183e-08, 7.3108567e-06, 1.3819224e-06, 1.7631933e-03,\n",
    "        1.1948529e-03, 3.4588625e-06, 3.5121070e-09, 3.3957927e-04,\n",
    "        5.8046542e-04, 9.9610978e-01]], dtype=float32)"
   ]
  }
 ],
 "metadata": {
  "kernelspec": {
   "display_name": "Python 3",
   "language": "python",
   "name": "python3"
  },
  "language_info": {
   "codemirror_mode": {
    "name": "ipython",
    "version": 3
   },
   "file_extension": ".py",
   "mimetype": "text/x-python",
   "name": "python",
   "nbconvert_exporter": "python",
   "pygments_lexer": "ipython3",
   "version": "3.7.4"
  }
 },
 "nbformat": 4,
 "nbformat_minor": 2
}
